{
 "cells": [
  {
   "cell_type": "code",
   "execution_count": 2,
   "metadata": {},
   "outputs": [],
   "source": [
    "import os\n",
    "import json\n",
    "from flask import Flask, request, jsonify\n",
    "# from amplify import Amplify\n",
    "from PIL import Image\n",
    "import requests\n",
    "import base64"
   ]
  },
  {
   "cell_type": "code",
   "execution_count": 3,
   "metadata": {},
   "outputs": [
    {
     "name": "stdout",
     "output_type": "stream",
     "text": [
      "Current working directory: /Users/heatherwang/Documents/Python/myvenv/WIT-BootCamp-Accenture-2024\n"
     ]
    }
   ],
   "source": [
    "import os\n",
    "print(\"Current working directory:\", os.getcwd())"
   ]
  },
  {
   "cell_type": "code",
   "execution_count": null,
   "metadata": {},
   "outputs": [],
   "source": [
    "class MockAmplify:\n",
    "    class API:\n",
    "        @staticmethod\n",
    "        def post(api_name, path, body):\n",
    "            # Mock image generation\n",
    "            return {\"image\": \"base64_encoded_image_data\"}\n",
    "\n",
    "Amplify = MockAmplify()"
   ]
  },
  {
   "cell_type": "code",
   "execution_count": null,
   "metadata": {},
   "outputs": [],
   "source": [
    "app = Flask(__name__)\n",
    "\n",
    "\n",
    "# Initialize Amplify\n",
    "# Amplify.configure({\n",
    "#     \"API\": {\n",
    "#         \"endpoints\": [\n",
    "#             {\n",
    "#                 \"name\": \"imageGenerationApi\",\n",
    "#                 \"endpoint\": \"YOUR_API_ENDPOINT_HERE\"\n",
    "#             }\n",
    "#         ]\n",
    "#     }\n",
    "# })\n",
    "\n",
    "# Local cache directory\n",
    "CACHE_DIR = \"image_cache\"\n",
    "\n",
    "def get_cached_image(text):\n",
    "    \"\"\"Check if an image for the given text exists in the local cache.\"\"\"\n",
    "    filename = f\"{CACHE_DIR}/{base64.b64encode(text.encode()).decode()}.png\"\n",
    "    if os.path.exists(filename):\n",
    "        with open(filename, \"rb\") as f:\n",
    "            return base64.b64encode(f.read()).decode()\n",
    "    return None\n",
    "\n",
    "def save_to_cache(text, image_data):\n",
    "    \"\"\"Save the generated image to the local cache.\"\"\"\n",
    "    if not os.path.exists(CACHE_DIR):\n",
    "        os.makedirs(CACHE_DIR)\n",
    "    filename = f\"{CACHE_DIR}/{base64.b64encode(text.encode()).decode()}.png\"\n",
    "    with open(filename, \"wb\") as f:\n",
    "        f.write(base64.b64decode(image_data))\n",
    "\n",
    "def generate_image(text):\n",
    "    \"\"\"Call the API to generate an image for the given text.\"\"\"\n",
    "    # response = Amplify.API.post(\n",
    "    #     \"imageGenerationApi\",\n",
    "    #     \"/generate\",\n",
    "    #     body={\"text\": text}\n",
    "    # )\n",
    "    # img = response[\"image\"]\n",
    "\n",
    "    # dummy implementation\n",
    "    img = base64.b64encode(b\"image data for \" + text.encode()).decode()\n",
    "    return img\n",
    "\n",
    "@app.route(\"/get_image\", methods=[\"POST\"])\n",
    "def get_image():\n",
    "    data = request.json\n",
    "    text = data.get(\"text\")\n",
    "\n",
    "    if not text:\n",
    "        return jsonify({\"error\": \"No text provided\"}), 400\n",
    "\n",
    "    # Check local cache\n",
    "    cached_image = get_cached_image(text)\n",
    "    if cached_image:\n",
    "        return jsonify({\"image\": cached_image, \"source\": \"cache\"})\n",
    "\n",
    "    # Generate new image\n",
    "    try:\n",
    "        generated_image = generate_image(text)\n",
    "        save_to_cache(text, generated_image)\n",
    "        return jsonify({\"image\": generated_image, \"source\": \"api\"})\n",
    "    except Exception as e:\n",
    "        return jsonify({\"error\": str(e)}), 500\n",
    "\n",
    "if __name__ == \"__main__\":\n",
    "    app.run(debug=True)"
   ]
  }
 ],
 "metadata": {
  "kernelspec": {
   "display_name": "myvenv",
   "language": "python",
   "name": "python3"
  },
  "language_info": {
   "codemirror_mode": {
    "name": "ipython",
    "version": 3
   },
   "file_extension": ".py",
   "mimetype": "text/x-python",
   "name": "python",
   "nbconvert_exporter": "python",
   "pygments_lexer": "ipython3",
   "version": "3.11.4"
  },
  "orig_nbformat": 4
 },
 "nbformat": 4,
 "nbformat_minor": 2
}
